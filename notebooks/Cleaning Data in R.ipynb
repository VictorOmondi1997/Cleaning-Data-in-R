{
 "cells": [
  {
   "cell_type": "markdown",
   "metadata": {},
   "source": [
    "![](https://assets.datacamp.com/production/course_723/shields/thumb/shield_image_course_723_20190828-1-1qucbk7?1567003204)\n",
    "# Introduction and Exproling Raw data\n",
    "\n",
    "An overview of the process of data cleaning with R and the basics of exploring raw data.\n",
    "\n",
    "## Introduction to Cleaning Data in R\n",
    "\n",
    "The Essential Parts of a Data Cleaning Process\n",
    "--------------------------------------------------\n",
    "\n",
    "1. Exploring raw data\n",
    "2. Tidying data\n",
    "3. Preparing data for analysis\n",
    "\n",
    ">  No one likes missing data, but it is dangerous to assume that it can simply be removed or replaced. Sometimes missing data tells us something important about whatever it is that we're measuring (i.e. the value of the variable that is missing may be related to - the reason it is missing). Such data is called Missing not at Random, or MNAR.\n",
    "\n",
    "We are presented with a messy, real-world dataset containing an entire year's worth of weather data from Boston, USA. Among other things, we'll be presented with variables that contain column names, column names that should be values, numbers coded as character strings, and values that are missing, extreme, and downright erroneous!"
   ]
  },
  {
   "cell_type": "markdown",
   "metadata": {},
   "source": [
    "## Exploring raw data\n",
    "\n",
    "### Getting a feel for your data"
   ]
  },
  {
   "cell_type": "code",
   "execution_count": 17,
   "metadata": {},
   "outputs": [
    {
     "name": "stderr",
     "output_type": "stream",
     "text": [
      "Warning message:\n",
      "\"package 'dplyr' was built under R version 3.6.3\"\n",
      "Attaching package: 'dplyr'\n",
      "\n",
      "The following objects are masked from 'package:stats':\n",
      "\n",
      "    filter, lag\n",
      "\n",
      "The following objects are masked from 'package:base':\n",
      "\n",
      "    intersect, setdiff, setequal, union\n",
      "\n"
     ]
    }
   ],
   "source": [
    "library(readr)\n",
    "library(dplyr)"
   ]
  },
  {
   "cell_type": "code",
   "execution_count": 2,
   "metadata": {},
   "outputs": [],
   "source": [
    "weather = readRDS(gzcon(url('https://assets.datacamp.com/production/repositories/34/datasets/b3c1036d9a60a9dfe0f99051d2474a54f76055ea/weather.rds')))"
   ]
  },
  {
   "cell_type": "code",
   "execution_count": 7,
   "metadata": {},
   "outputs": [
    {
     "data": {
      "text/html": [
       "'data.frame'"
      ],
      "text/latex": [
       "'data.frame'"
      ],
      "text/markdown": [
       "'data.frame'"
      ],
      "text/plain": [
       "[1] \"data.frame\""
      ]
     },
     "metadata": {},
     "output_type": "display_data"
    }
   ],
   "source": [
    "class(weather)"
   ]
  },
  {
   "cell_type": "code",
   "execution_count": 3,
   "metadata": {},
   "outputs": [
    {
     "data": {
      "text/html": [
       "<table>\n",
       "<thead><tr><th scope=col>X</th><th scope=col>year</th><th scope=col>month</th><th scope=col>measure</th><th scope=col>X1</th><th scope=col>X2</th><th scope=col>X3</th><th scope=col>X4</th><th scope=col>X5</th><th scope=col>X6</th><th scope=col>...</th><th scope=col>X22</th><th scope=col>X23</th><th scope=col>X24</th><th scope=col>X25</th><th scope=col>X26</th><th scope=col>X27</th><th scope=col>X28</th><th scope=col>X29</th><th scope=col>X30</th><th scope=col>X31</th></tr></thead>\n",
       "<tbody>\n",
       "\t<tr><td>1                </td><td>2014             </td><td>12               </td><td>Max.TemperatureF </td><td>64               </td><td>42               </td><td>51               </td><td>43               </td><td>42               </td><td>45               </td><td>...              </td><td>44               </td><td>47               </td><td>46               </td><td>59               </td><td>50               </td><td>52               </td><td>52               </td><td>41               </td><td>30               </td><td>30               </td></tr>\n",
       "\t<tr><td>2                </td><td>2014             </td><td>12               </td><td>Mean.TemperatureF</td><td>52               </td><td>38               </td><td>44               </td><td>37               </td><td>34               </td><td>42               </td><td>...              </td><td>39               </td><td>45               </td><td>44               </td><td>52               </td><td>44               </td><td>45               </td><td>46               </td><td>36               </td><td>26               </td><td>25               </td></tr>\n",
       "\t<tr><td>3                </td><td>2014             </td><td>12               </td><td>Min.TemperatureF </td><td>39               </td><td>33               </td><td>37               </td><td>30               </td><td>26               </td><td>38               </td><td>...              </td><td>33               </td><td>42               </td><td>41               </td><td>44               </td><td>37               </td><td>38               </td><td>40               </td><td>30               </td><td>22               </td><td>20               </td></tr>\n",
       "\t<tr><td>4                </td><td>2014             </td><td>12               </td><td>Max.Dew.PointF   </td><td>46               </td><td>40               </td><td>49               </td><td>24               </td><td>37               </td><td>45               </td><td>...              </td><td>39               </td><td>45               </td><td>46               </td><td>58               </td><td>31               </td><td>34               </td><td>42               </td><td>26               </td><td>10               </td><td>8                </td></tr>\n",
       "\t<tr><td>5                </td><td>2014             </td><td>12               </td><td>MeanDew.PointF   </td><td>40               </td><td>27               </td><td>42               </td><td>21               </td><td>25               </td><td>40               </td><td>...              </td><td>34               </td><td>42               </td><td>44               </td><td>43               </td><td>29               </td><td>31               </td><td>35               </td><td>20               </td><td>4                </td><td>5                </td></tr>\n",
       "\t<tr><td>6                </td><td>2014             </td><td>12               </td><td>Min.DewpointF    </td><td>26               </td><td>17               </td><td>24               </td><td>13               </td><td>12               </td><td>36               </td><td>...              </td><td>25               </td><td>37               </td><td>41               </td><td>29               </td><td>28               </td><td>29               </td><td>27               </td><td>10               </td><td>-6               </td><td>1                </td></tr>\n",
       "</tbody>\n",
       "</table>\n"
      ],
      "text/latex": [
       "\\begin{tabular}{r|lllllllllllllllllllllllllllllllllll}\n",
       " X & year & month & measure & X1 & X2 & X3 & X4 & X5 & X6 & ... & X22 & X23 & X24 & X25 & X26 & X27 & X28 & X29 & X30 & X31\\\\\n",
       "\\hline\n",
       "\t 1                 & 2014              & 12                & Max.TemperatureF  & 64                & 42                & 51                & 43                & 42                & 45                & ...               & 44                & 47                & 46                & 59                & 50                & 52                & 52                & 41                & 30                & 30               \\\\\n",
       "\t 2                 & 2014              & 12                & Mean.TemperatureF & 52                & 38                & 44                & 37                & 34                & 42                & ...               & 39                & 45                & 44                & 52                & 44                & 45                & 46                & 36                & 26                & 25               \\\\\n",
       "\t 3                 & 2014              & 12                & Min.TemperatureF  & 39                & 33                & 37                & 30                & 26                & 38                & ...               & 33                & 42                & 41                & 44                & 37                & 38                & 40                & 30                & 22                & 20               \\\\\n",
       "\t 4                 & 2014              & 12                & Max.Dew.PointF    & 46                & 40                & 49                & 24                & 37                & 45                & ...               & 39                & 45                & 46                & 58                & 31                & 34                & 42                & 26                & 10                & 8                \\\\\n",
       "\t 5                 & 2014              & 12                & MeanDew.PointF    & 40                & 27                & 42                & 21                & 25                & 40                & ...               & 34                & 42                & 44                & 43                & 29                & 31                & 35                & 20                & 4                 & 5                \\\\\n",
       "\t 6                 & 2014              & 12                & Min.DewpointF     & 26                & 17                & 24                & 13                & 12                & 36                & ...               & 25                & 37                & 41                & 29                & 28                & 29                & 27                & 10                & -6                & 1                \\\\\n",
       "\\end{tabular}\n"
      ],
      "text/markdown": [
       "\n",
       "| X | year | month | measure | X1 | X2 | X3 | X4 | X5 | X6 | ... | X22 | X23 | X24 | X25 | X26 | X27 | X28 | X29 | X30 | X31 |\n",
       "|---|---|---|---|---|---|---|---|---|---|---|---|---|---|---|---|---|---|---|---|---|\n",
       "| 1                 | 2014              | 12                | Max.TemperatureF  | 64                | 42                | 51                | 43                | 42                | 45                | ...               | 44                | 47                | 46                | 59                | 50                | 52                | 52                | 41                | 30                | 30                |\n",
       "| 2                 | 2014              | 12                | Mean.TemperatureF | 52                | 38                | 44                | 37                | 34                | 42                | ...               | 39                | 45                | 44                | 52                | 44                | 45                | 46                | 36                | 26                | 25                |\n",
       "| 3                 | 2014              | 12                | Min.TemperatureF  | 39                | 33                | 37                | 30                | 26                | 38                | ...               | 33                | 42                | 41                | 44                | 37                | 38                | 40                | 30                | 22                | 20                |\n",
       "| 4                 | 2014              | 12                | Max.Dew.PointF    | 46                | 40                | 49                | 24                | 37                | 45                | ...               | 39                | 45                | 46                | 58                | 31                | 34                | 42                | 26                | 10                | 8                 |\n",
       "| 5                 | 2014              | 12                | MeanDew.PointF    | 40                | 27                | 42                | 21                | 25                | 40                | ...               | 34                | 42                | 44                | 43                | 29                | 31                | 35                | 20                | 4                 | 5                 |\n",
       "| 6                 | 2014              | 12                | Min.DewpointF     | 26                | 17                | 24                | 13                | 12                | 36                | ...               | 25                | 37                | 41                | 29                | 28                | 29                | 27                | 10                | -6                | 1                 |\n",
       "\n"
      ],
      "text/plain": [
       "  X year month measure           X1 X2 X3 X4 X5 X6 ... X22 X23 X24 X25 X26 X27\n",
       "1 1 2014 12    Max.TemperatureF  64 42 51 43 42 45 ... 44  47  46  59  50  52 \n",
       "2 2 2014 12    Mean.TemperatureF 52 38 44 37 34 42 ... 39  45  44  52  44  45 \n",
       "3 3 2014 12    Min.TemperatureF  39 33 37 30 26 38 ... 33  42  41  44  37  38 \n",
       "4 4 2014 12    Max.Dew.PointF    46 40 49 24 37 45 ... 39  45  46  58  31  34 \n",
       "5 5 2014 12    MeanDew.PointF    40 27 42 21 25 40 ... 34  42  44  43  29  31 \n",
       "6 6 2014 12    Min.DewpointF     26 17 24 13 12 36 ... 25  37  41  29  28  29 \n",
       "  X28 X29 X30 X31\n",
       "1 52  41  30  30 \n",
       "2 46  36  26  25 \n",
       "3 40  30  22  20 \n",
       "4 42  26  10  8  \n",
       "5 35  20  4   5  \n",
       "6 27  10  -6  1  "
      ]
     },
     "metadata": {},
     "output_type": "display_data"
    }
   ],
   "source": [
    "head(weather)"
   ]
  },
  {
   "cell_type": "code",
   "execution_count": 4,
   "metadata": {},
   "outputs": [
    {
     "data": {
      "text/html": [
       "<table>\n",
       "<thead><tr><th></th><th scope=col>X</th><th scope=col>year</th><th scope=col>month</th><th scope=col>measure</th><th scope=col>X1</th><th scope=col>X2</th><th scope=col>X3</th><th scope=col>X4</th><th scope=col>X5</th><th scope=col>X6</th><th scope=col>...</th><th scope=col>X22</th><th scope=col>X23</th><th scope=col>X24</th><th scope=col>X25</th><th scope=col>X26</th><th scope=col>X27</th><th scope=col>X28</th><th scope=col>X29</th><th scope=col>X30</th><th scope=col>X31</th></tr></thead>\n",
       "<tbody>\n",
       "\t<tr><th scope=row>281</th><td>281               </td><td>2015              </td><td>12                </td><td>Mean.Wind.SpeedMPH</td><td>6                 </td><td>NA                </td><td>NA                </td><td>NA                </td><td>NA                </td><td>NA                </td><td>...               </td><td>NA                </td><td>NA                </td><td>NA                </td><td>NA                </td><td>NA                </td><td>NA                </td><td>NA                </td><td>NA                </td><td>NA                </td><td>NA                </td></tr>\n",
       "\t<tr><th scope=row>282</th><td>282               </td><td>2015              </td><td>12                </td><td>Max.Gust.SpeedMPH </td><td>17                </td><td>NA                </td><td>NA                </td><td>NA                </td><td>NA                </td><td>NA                </td><td>...               </td><td>NA                </td><td>NA                </td><td>NA                </td><td>NA                </td><td>NA                </td><td>NA                </td><td>NA                </td><td>NA                </td><td>NA                </td><td>NA                </td></tr>\n",
       "\t<tr><th scope=row>283</th><td>283               </td><td>2015              </td><td>12                </td><td>PrecipitationIn   </td><td>0.14              </td><td>NA                </td><td>NA                </td><td>NA                </td><td>NA                </td><td>NA                </td><td>...               </td><td>NA                </td><td>NA                </td><td>NA                </td><td>NA                </td><td>NA                </td><td>NA                </td><td>NA                </td><td>NA                </td><td>NA                </td><td>NA                </td></tr>\n",
       "\t<tr><th scope=row>284</th><td>284               </td><td>2015              </td><td>12                </td><td>CloudCover        </td><td>7                 </td><td>NA                </td><td>NA                </td><td>NA                </td><td>NA                </td><td>NA                </td><td>...               </td><td>NA                </td><td>NA                </td><td>NA                </td><td>NA                </td><td>NA                </td><td>NA                </td><td>NA                </td><td>NA                </td><td>NA                </td><td>NA                </td></tr>\n",
       "\t<tr><th scope=row>285</th><td>285               </td><td>2015              </td><td>12                </td><td>Events            </td><td>Rain              </td><td>NA                </td><td>NA                </td><td>NA                </td><td>NA                </td><td>NA                </td><td>...               </td><td>NA                </td><td>NA                </td><td>NA                </td><td>NA                </td><td>NA                </td><td>NA                </td><td>NA                </td><td>NA                </td><td>NA                </td><td>NA                </td></tr>\n",
       "\t<tr><th scope=row>286</th><td>286               </td><td>2015              </td><td>12                </td><td>WindDirDegrees    </td><td>109               </td><td>NA                </td><td>NA                </td><td>NA                </td><td>NA                </td><td>NA                </td><td>...               </td><td>NA                </td><td>NA                </td><td>NA                </td><td>NA                </td><td>NA                </td><td>NA                </td><td>NA                </td><td>NA                </td><td>NA                </td><td>NA                </td></tr>\n",
       "</tbody>\n",
       "</table>\n"
      ],
      "text/latex": [
       "\\begin{tabular}{r|lllllllllllllllllllllllllllllllllll}\n",
       "  & X & year & month & measure & X1 & X2 & X3 & X4 & X5 & X6 & ... & X22 & X23 & X24 & X25 & X26 & X27 & X28 & X29 & X30 & X31\\\\\n",
       "\\hline\n",
       "\t281 & 281                & 2015               & 12                 & Mean.Wind.SpeedMPH & 6                  & NA                 & NA                 & NA                 & NA                 & NA                 & ...                & NA                 & NA                 & NA                 & NA                 & NA                 & NA                 & NA                 & NA                 & NA                 & NA                \\\\\n",
       "\t282 & 282                & 2015               & 12                 & Max.Gust.SpeedMPH  & 17                 & NA                 & NA                 & NA                 & NA                 & NA                 & ...                & NA                 & NA                 & NA                 & NA                 & NA                 & NA                 & NA                 & NA                 & NA                 & NA                \\\\\n",
       "\t283 & 283                & 2015               & 12                 & PrecipitationIn    & 0.14               & NA                 & NA                 & NA                 & NA                 & NA                 & ...                & NA                 & NA                 & NA                 & NA                 & NA                 & NA                 & NA                 & NA                 & NA                 & NA                \\\\\n",
       "\t284 & 284                & 2015               & 12                 & CloudCover         & 7                  & NA                 & NA                 & NA                 & NA                 & NA                 & ...                & NA                 & NA                 & NA                 & NA                 & NA                 & NA                 & NA                 & NA                 & NA                 & NA                \\\\\n",
       "\t285 & 285                & 2015               & 12                 & Events             & Rain               & NA                 & NA                 & NA                 & NA                 & NA                 & ...                & NA                 & NA                 & NA                 & NA                 & NA                 & NA                 & NA                 & NA                 & NA                 & NA                \\\\\n",
       "\t286 & 286                & 2015               & 12                 & WindDirDegrees     & 109                & NA                 & NA                 & NA                 & NA                 & NA                 & ...                & NA                 & NA                 & NA                 & NA                 & NA                 & NA                 & NA                 & NA                 & NA                 & NA                \\\\\n",
       "\\end{tabular}\n"
      ],
      "text/markdown": [
       "\n",
       "| <!--/--> | X | year | month | measure | X1 | X2 | X3 | X4 | X5 | X6 | ... | X22 | X23 | X24 | X25 | X26 | X27 | X28 | X29 | X30 | X31 |\n",
       "|---|---|---|---|---|---|---|---|---|---|---|---|---|---|---|---|---|---|---|---|---|---|\n",
       "| 281 | 281                | 2015               | 12                 | Mean.Wind.SpeedMPH | 6                  | NA                 | NA                 | NA                 | NA                 | NA                 | ...                | NA                 | NA                 | NA                 | NA                 | NA                 | NA                 | NA                 | NA                 | NA                 | NA                 |\n",
       "| 282 | 282                | 2015               | 12                 | Max.Gust.SpeedMPH  | 17                 | NA                 | NA                 | NA                 | NA                 | NA                 | ...                | NA                 | NA                 | NA                 | NA                 | NA                 | NA                 | NA                 | NA                 | NA                 | NA                 |\n",
       "| 283 | 283                | 2015               | 12                 | PrecipitationIn    | 0.14               | NA                 | NA                 | NA                 | NA                 | NA                 | ...                | NA                 | NA                 | NA                 | NA                 | NA                 | NA                 | NA                 | NA                 | NA                 | NA                 |\n",
       "| 284 | 284                | 2015               | 12                 | CloudCover         | 7                  | NA                 | NA                 | NA                 | NA                 | NA                 | ...                | NA                 | NA                 | NA                 | NA                 | NA                 | NA                 | NA                 | NA                 | NA                 | NA                 |\n",
       "| 285 | 285                | 2015               | 12                 | Events             | Rain               | NA                 | NA                 | NA                 | NA                 | NA                 | ...                | NA                 | NA                 | NA                 | NA                 | NA                 | NA                 | NA                 | NA                 | NA                 | NA                 |\n",
       "| 286 | 286                | 2015               | 12                 | WindDirDegrees     | 109                | NA                 | NA                 | NA                 | NA                 | NA                 | ...                | NA                 | NA                 | NA                 | NA                 | NA                 | NA                 | NA                 | NA                 | NA                 | NA                 |\n",
       "\n"
      ],
      "text/plain": [
       "    X   year month measure            X1   X2 X3 X4 X5 X6 ... X22 X23 X24 X25\n",
       "281 281 2015 12    Mean.Wind.SpeedMPH 6    NA NA NA NA NA ... NA  NA  NA  NA \n",
       "282 282 2015 12    Max.Gust.SpeedMPH  17   NA NA NA NA NA ... NA  NA  NA  NA \n",
       "283 283 2015 12    PrecipitationIn    0.14 NA NA NA NA NA ... NA  NA  NA  NA \n",
       "284 284 2015 12    CloudCover         7    NA NA NA NA NA ... NA  NA  NA  NA \n",
       "285 285 2015 12    Events             Rain NA NA NA NA NA ... NA  NA  NA  NA \n",
       "286 286 2015 12    WindDirDegrees     109  NA NA NA NA NA ... NA  NA  NA  NA \n",
       "    X26 X27 X28 X29 X30 X31\n",
       "281 NA  NA  NA  NA  NA  NA \n",
       "282 NA  NA  NA  NA  NA  NA \n",
       "283 NA  NA  NA  NA  NA  NA \n",
       "284 NA  NA  NA  NA  NA  NA \n",
       "285 NA  NA  NA  NA  NA  NA \n",
       "286 NA  NA  NA  NA  NA  NA "
      ]
     },
     "metadata": {},
     "output_type": "display_data"
    }
   ],
   "source": [
    "tail(weather)"
   ]
  },
  {
   "cell_type": "code",
   "execution_count": 5,
   "metadata": {},
   "outputs": [
    {
     "name": "stdout",
     "output_type": "stream",
     "text": [
      "'data.frame':\t286 obs. of  35 variables:\n",
      " $ X      : int  1 2 3 4 5 6 7 8 9 10 ...\n",
      " $ year   : int  2014 2014 2014 2014 2014 2014 2014 2014 2014 2014 ...\n",
      " $ month  : int  12 12 12 12 12 12 12 12 12 12 ...\n",
      " $ measure: chr  \"Max.TemperatureF\" \"Mean.TemperatureF\" \"Min.TemperatureF\" \"Max.Dew.PointF\" ...\n",
      " $ X1     : chr  \"64\" \"52\" \"39\" \"46\" ...\n",
      " $ X2     : chr  \"42\" \"38\" \"33\" \"40\" ...\n",
      " $ X3     : chr  \"51\" \"44\" \"37\" \"49\" ...\n",
      " $ X4     : chr  \"43\" \"37\" \"30\" \"24\" ...\n",
      " $ X5     : chr  \"42\" \"34\" \"26\" \"37\" ...\n",
      " $ X6     : chr  \"45\" \"42\" \"38\" \"45\" ...\n",
      " $ X7     : chr  \"38\" \"30\" \"21\" \"36\" ...\n",
      " $ X8     : chr  \"29\" \"24\" \"18\" \"28\" ...\n",
      " $ X9     : chr  \"49\" \"39\" \"29\" \"49\" ...\n",
      " $ X10    : chr  \"48\" \"43\" \"38\" \"45\" ...\n",
      " $ X11    : chr  \"39\" \"36\" \"32\" \"37\" ...\n",
      " $ X12    : chr  \"39\" \"35\" \"31\" \"28\" ...\n",
      " $ X13    : chr  \"42\" \"37\" \"32\" \"28\" ...\n",
      " $ X14    : chr  \"45\" \"39\" \"33\" \"29\" ...\n",
      " $ X15    : chr  \"42\" \"37\" \"32\" \"33\" ...\n",
      " $ X16    : chr  \"44\" \"40\" \"35\" \"42\" ...\n",
      " $ X17    : chr  \"49\" \"45\" \"41\" \"46\" ...\n",
      " $ X18    : chr  \"44\" \"40\" \"36\" \"34\" ...\n",
      " $ X19    : chr  \"37\" \"33\" \"29\" \"25\" ...\n",
      " $ X20    : chr  \"36\" \"32\" \"27\" \"30\" ...\n",
      " $ X21    : chr  \"36\" \"33\" \"30\" \"30\" ...\n",
      " $ X22    : chr  \"44\" \"39\" \"33\" \"39\" ...\n",
      " $ X23    : chr  \"47\" \"45\" \"42\" \"45\" ...\n",
      " $ X24    : chr  \"46\" \"44\" \"41\" \"46\" ...\n",
      " $ X25    : chr  \"59\" \"52\" \"44\" \"58\" ...\n",
      " $ X26    : chr  \"50\" \"44\" \"37\" \"31\" ...\n",
      " $ X27    : chr  \"52\" \"45\" \"38\" \"34\" ...\n",
      " $ X28    : chr  \"52\" \"46\" \"40\" \"42\" ...\n",
      " $ X29    : chr  \"41\" \"36\" \"30\" \"26\" ...\n",
      " $ X30    : chr  \"30\" \"26\" \"22\" \"10\" ...\n",
      " $ X31    : chr  \"30\" \"25\" \"20\" \"8\" ...\n"
     ]
    }
   ],
   "source": [
    "str(weather)"
   ]
  },
  {
   "cell_type": "code",
   "execution_count": 6,
   "metadata": {},
   "outputs": [
    {
     "data": {
      "text/html": [
       "<ol class=list-inline>\n",
       "\t<li>286</li>\n",
       "\t<li>35</li>\n",
       "</ol>\n"
      ],
      "text/latex": [
       "\\begin{enumerate*}\n",
       "\\item 286\n",
       "\\item 35\n",
       "\\end{enumerate*}\n"
      ],
      "text/markdown": [
       "1. 286\n",
       "2. 35\n",
       "\n",
       "\n"
      ],
      "text/plain": [
       "[1] 286  35"
      ]
     },
     "metadata": {},
     "output_type": "display_data"
    }
   ],
   "source": [
    "dim(weather)"
   ]
  },
  {
   "cell_type": "code",
   "execution_count": 9,
   "metadata": {},
   "outputs": [
    {
     "name": "stderr",
     "output_type": "stream",
     "text": [
      "Parsed with column specification:\n",
      "cols(\n",
      "  .default = col_double(),\n",
      "  Country = col_character()\n",
      ")\n",
      "See spec(...) for full column specifications.\n"
     ]
    }
   ],
   "source": [
    "bmi=read_csv('https://assets.datacamp.com/production/repositories/34/datasets/a0a569ebbb34500d11979eba95360125127e6434/bmi_clean.csv')"
   ]
  },
  {
   "cell_type": "code",
   "execution_count": 10,
   "metadata": {},
   "outputs": [
    {
     "data": {
      "text/html": [
       "<ol class=list-inline>\n",
       "\t<li>'spec_tbl_df'</li>\n",
       "\t<li>'tbl_df'</li>\n",
       "\t<li>'tbl'</li>\n",
       "\t<li>'data.frame'</li>\n",
       "</ol>\n"
      ],
      "text/latex": [
       "\\begin{enumerate*}\n",
       "\\item 'spec\\_tbl\\_df'\n",
       "\\item 'tbl\\_df'\n",
       "\\item 'tbl'\n",
       "\\item 'data.frame'\n",
       "\\end{enumerate*}\n"
      ],
      "text/markdown": [
       "1. 'spec_tbl_df'\n",
       "2. 'tbl_df'\n",
       "3. 'tbl'\n",
       "4. 'data.frame'\n",
       "\n",
       "\n"
      ],
      "text/plain": [
       "[1] \"spec_tbl_df\" \"tbl_df\"      \"tbl\"         \"data.frame\" "
      ]
     },
     "metadata": {},
     "output_type": "display_data"
    }
   ],
   "source": [
    "class(bmi)"
   ]
  },
  {
   "cell_type": "code",
   "execution_count": 11,
   "metadata": {},
   "outputs": [
    {
     "data": {
      "text/html": [
       "<ol class=list-inline>\n",
       "\t<li>199</li>\n",
       "\t<li>30</li>\n",
       "</ol>\n"
      ],
      "text/latex": [
       "\\begin{enumerate*}\n",
       "\\item 199\n",
       "\\item 30\n",
       "\\end{enumerate*}\n"
      ],
      "text/markdown": [
       "1. 199\n",
       "2. 30\n",
       "\n",
       "\n"
      ],
      "text/plain": [
       "[1] 199  30"
      ]
     },
     "metadata": {},
     "output_type": "display_data"
    }
   ],
   "source": [
    "dim(bmi)"
   ]
  },
  {
   "cell_type": "code",
   "execution_count": 12,
   "metadata": {},
   "outputs": [
    {
     "data": {
      "text/html": [
       "<table>\n",
       "<thead><tr><th scope=col>Country</th><th scope=col>Y1980</th><th scope=col>Y1981</th><th scope=col>Y1982</th><th scope=col>Y1983</th><th scope=col>Y1984</th><th scope=col>Y1985</th><th scope=col>Y1986</th><th scope=col>Y1987</th><th scope=col>Y1988</th><th scope=col>...</th><th scope=col>Y1999</th><th scope=col>Y2000</th><th scope=col>Y2001</th><th scope=col>Y2002</th><th scope=col>Y2003</th><th scope=col>Y2004</th><th scope=col>Y2005</th><th scope=col>Y2006</th><th scope=col>Y2007</th><th scope=col>Y2008</th></tr></thead>\n",
       "<tbody>\n",
       "\t<tr><td>Afghanistan        </td><td>21.48678           </td><td>21.46552           </td><td>21.45145           </td><td>21.43822           </td><td>21.42734           </td><td>21.41222           </td><td>21.40132           </td><td>21.37679           </td><td>21.34018           </td><td>...                </td><td>20.75469           </td><td>20.69521           </td><td>20.62643           </td><td>20.59848           </td><td>20.58706           </td><td>20.57759           </td><td>20.58084           </td><td>20.58749           </td><td>20.60246           </td><td>20.62058           </td></tr>\n",
       "\t<tr><td>Albania            </td><td>25.22533           </td><td>25.23981           </td><td>25.25636           </td><td>25.27176           </td><td>25.27901           </td><td>25.28669           </td><td>25.29451           </td><td>25.30217           </td><td>25.30450           </td><td>...                </td><td>25.46555           </td><td>25.55835           </td><td>25.66701           </td><td>25.77167           </td><td>25.87274           </td><td>25.98136           </td><td>26.08939           </td><td>26.20867           </td><td>26.32753           </td><td>26.44657           </td></tr>\n",
       "\t<tr><td>Algeria            </td><td>22.25703           </td><td>22.34745           </td><td>22.43647           </td><td>22.52105           </td><td>22.60633           </td><td>22.69501           </td><td>22.76979           </td><td>22.84096           </td><td>22.90644           </td><td>...                </td><td>23.69486           </td><td>23.77659           </td><td>23.86256           </td><td>23.95294           </td><td>24.05243           </td><td>24.15957           </td><td>24.27001           </td><td>24.38270           </td><td>24.48846           </td><td>24.59620           </td></tr>\n",
       "\t<tr><td>Andorra            </td><td>25.66652           </td><td>25.70868           </td><td>25.74681           </td><td>25.78250           </td><td>25.81874           </td><td>25.85236           </td><td>25.89089           </td><td>25.93414           </td><td>25.98477           </td><td>...                </td><td>26.75078           </td><td>26.83179           </td><td>26.92373           </td><td>27.02525           </td><td>27.12481           </td><td>27.23107           </td><td>27.32827           </td><td>27.43588           </td><td>27.53363           </td><td>27.63048           </td></tr>\n",
       "\t<tr><td>Angola             </td><td>20.94876           </td><td>20.94371           </td><td>20.93754           </td><td>20.93187           </td><td>20.93569           </td><td>20.94857           </td><td>20.96030           </td><td>20.98025           </td><td>21.01375           </td><td>...                </td><td>21.31954           </td><td>21.37480           </td><td>21.43664           </td><td>21.51765           </td><td>21.59924           </td><td>21.69218           </td><td>21.80564           </td><td>21.93881           </td><td>22.08962           </td><td>22.25083           </td></tr>\n",
       "\t<tr><td>Antigua and Barbuda</td><td>23.31424           </td><td>23.39054           </td><td>23.45883           </td><td>23.53735           </td><td>23.63584           </td><td>23.73109           </td><td>23.83449           </td><td>23.93649           </td><td>24.05364           </td><td>...                </td><td>24.91721           </td><td>24.99158           </td><td>25.05857           </td><td>25.13039           </td><td>25.20713           </td><td>25.29898           </td><td>25.39965           </td><td>25.51382           </td><td>25.64247           </td><td>25.76602           </td></tr>\n",
       "</tbody>\n",
       "</table>\n"
      ],
      "text/latex": [
       "\\begin{tabular}{r|llllllllllllllllllllllllllllll}\n",
       " Country & Y1980 & Y1981 & Y1982 & Y1983 & Y1984 & Y1985 & Y1986 & Y1987 & Y1988 & ... & Y1999 & Y2000 & Y2001 & Y2002 & Y2003 & Y2004 & Y2005 & Y2006 & Y2007 & Y2008\\\\\n",
       "\\hline\n",
       "\t Afghanistan         & 21.48678            & 21.46552            & 21.45145            & 21.43822            & 21.42734            & 21.41222            & 21.40132            & 21.37679            & 21.34018            & ...                 & 20.75469            & 20.69521            & 20.62643            & 20.59848            & 20.58706            & 20.57759            & 20.58084            & 20.58749            & 20.60246            & 20.62058           \\\\\n",
       "\t Albania             & 25.22533            & 25.23981            & 25.25636            & 25.27176            & 25.27901            & 25.28669            & 25.29451            & 25.30217            & 25.30450            & ...                 & 25.46555            & 25.55835            & 25.66701            & 25.77167            & 25.87274            & 25.98136            & 26.08939            & 26.20867            & 26.32753            & 26.44657           \\\\\n",
       "\t Algeria             & 22.25703            & 22.34745            & 22.43647            & 22.52105            & 22.60633            & 22.69501            & 22.76979            & 22.84096            & 22.90644            & ...                 & 23.69486            & 23.77659            & 23.86256            & 23.95294            & 24.05243            & 24.15957            & 24.27001            & 24.38270            & 24.48846            & 24.59620           \\\\\n",
       "\t Andorra             & 25.66652            & 25.70868            & 25.74681            & 25.78250            & 25.81874            & 25.85236            & 25.89089            & 25.93414            & 25.98477            & ...                 & 26.75078            & 26.83179            & 26.92373            & 27.02525            & 27.12481            & 27.23107            & 27.32827            & 27.43588            & 27.53363            & 27.63048           \\\\\n",
       "\t Angola              & 20.94876            & 20.94371            & 20.93754            & 20.93187            & 20.93569            & 20.94857            & 20.96030            & 20.98025            & 21.01375            & ...                 & 21.31954            & 21.37480            & 21.43664            & 21.51765            & 21.59924            & 21.69218            & 21.80564            & 21.93881            & 22.08962            & 22.25083           \\\\\n",
       "\t Antigua and Barbuda & 23.31424            & 23.39054            & 23.45883            & 23.53735            & 23.63584            & 23.73109            & 23.83449            & 23.93649            & 24.05364            & ...                 & 24.91721            & 24.99158            & 25.05857            & 25.13039            & 25.20713            & 25.29898            & 25.39965            & 25.51382            & 25.64247            & 25.76602           \\\\\n",
       "\\end{tabular}\n"
      ],
      "text/markdown": [
       "\n",
       "| Country | Y1980 | Y1981 | Y1982 | Y1983 | Y1984 | Y1985 | Y1986 | Y1987 | Y1988 | ... | Y1999 | Y2000 | Y2001 | Y2002 | Y2003 | Y2004 | Y2005 | Y2006 | Y2007 | Y2008 |\n",
       "|---|---|---|---|---|---|---|---|---|---|---|---|---|---|---|---|---|---|---|---|---|\n",
       "| Afghanistan         | 21.48678            | 21.46552            | 21.45145            | 21.43822            | 21.42734            | 21.41222            | 21.40132            | 21.37679            | 21.34018            | ...                 | 20.75469            | 20.69521            | 20.62643            | 20.59848            | 20.58706            | 20.57759            | 20.58084            | 20.58749            | 20.60246            | 20.62058            |\n",
       "| Albania             | 25.22533            | 25.23981            | 25.25636            | 25.27176            | 25.27901            | 25.28669            | 25.29451            | 25.30217            | 25.30450            | ...                 | 25.46555            | 25.55835            | 25.66701            | 25.77167            | 25.87274            | 25.98136            | 26.08939            | 26.20867            | 26.32753            | 26.44657            |\n",
       "| Algeria             | 22.25703            | 22.34745            | 22.43647            | 22.52105            | 22.60633            | 22.69501            | 22.76979            | 22.84096            | 22.90644            | ...                 | 23.69486            | 23.77659            | 23.86256            | 23.95294            | 24.05243            | 24.15957            | 24.27001            | 24.38270            | 24.48846            | 24.59620            |\n",
       "| Andorra             | 25.66652            | 25.70868            | 25.74681            | 25.78250            | 25.81874            | 25.85236            | 25.89089            | 25.93414            | 25.98477            | ...                 | 26.75078            | 26.83179            | 26.92373            | 27.02525            | 27.12481            | 27.23107            | 27.32827            | 27.43588            | 27.53363            | 27.63048            |\n",
       "| Angola              | 20.94876            | 20.94371            | 20.93754            | 20.93187            | 20.93569            | 20.94857            | 20.96030            | 20.98025            | 21.01375            | ...                 | 21.31954            | 21.37480            | 21.43664            | 21.51765            | 21.59924            | 21.69218            | 21.80564            | 21.93881            | 22.08962            | 22.25083            |\n",
       "| Antigua and Barbuda | 23.31424            | 23.39054            | 23.45883            | 23.53735            | 23.63584            | 23.73109            | 23.83449            | 23.93649            | 24.05364            | ...                 | 24.91721            | 24.99158            | 25.05857            | 25.13039            | 25.20713            | 25.29898            | 25.39965            | 25.51382            | 25.64247            | 25.76602            |\n",
       "\n"
      ],
      "text/plain": [
       "  Country             Y1980    Y1981    Y1982    Y1983    Y1984    Y1985   \n",
       "1 Afghanistan         21.48678 21.46552 21.45145 21.43822 21.42734 21.41222\n",
       "2 Albania             25.22533 25.23981 25.25636 25.27176 25.27901 25.28669\n",
       "3 Algeria             22.25703 22.34745 22.43647 22.52105 22.60633 22.69501\n",
       "4 Andorra             25.66652 25.70868 25.74681 25.78250 25.81874 25.85236\n",
       "5 Angola              20.94876 20.94371 20.93754 20.93187 20.93569 20.94857\n",
       "6 Antigua and Barbuda 23.31424 23.39054 23.45883 23.53735 23.63584 23.73109\n",
       "  Y1986    Y1987    Y1988    ... Y1999    Y2000    Y2001    Y2002    Y2003   \n",
       "1 21.40132 21.37679 21.34018 ... 20.75469 20.69521 20.62643 20.59848 20.58706\n",
       "2 25.29451 25.30217 25.30450 ... 25.46555 25.55835 25.66701 25.77167 25.87274\n",
       "3 22.76979 22.84096 22.90644 ... 23.69486 23.77659 23.86256 23.95294 24.05243\n",
       "4 25.89089 25.93414 25.98477 ... 26.75078 26.83179 26.92373 27.02525 27.12481\n",
       "5 20.96030 20.98025 21.01375 ... 21.31954 21.37480 21.43664 21.51765 21.59924\n",
       "6 23.83449 23.93649 24.05364 ... 24.91721 24.99158 25.05857 25.13039 25.20713\n",
       "  Y2004    Y2005    Y2006    Y2007    Y2008   \n",
       "1 20.57759 20.58084 20.58749 20.60246 20.62058\n",
       "2 25.98136 26.08939 26.20867 26.32753 26.44657\n",
       "3 24.15957 24.27001 24.38270 24.48846 24.59620\n",
       "4 27.23107 27.32827 27.43588 27.53363 27.63048\n",
       "5 21.69218 21.80564 21.93881 22.08962 22.25083\n",
       "6 25.29898 25.39965 25.51382 25.64247 25.76602"
      ]
     },
     "metadata": {},
     "output_type": "display_data"
    }
   ],
   "source": [
    "head(bmi)"
   ]
  },
  {
   "cell_type": "code",
   "execution_count": 13,
   "metadata": {},
   "outputs": [
    {
     "data": {
      "text/html": [
       "<table>\n",
       "<thead><tr><th scope=col>Country</th><th scope=col>Y1980</th><th scope=col>Y1981</th><th scope=col>Y1982</th><th scope=col>Y1983</th><th scope=col>Y1984</th><th scope=col>Y1985</th><th scope=col>Y1986</th><th scope=col>Y1987</th><th scope=col>Y1988</th><th scope=col>...</th><th scope=col>Y1999</th><th scope=col>Y2000</th><th scope=col>Y2001</th><th scope=col>Y2002</th><th scope=col>Y2003</th><th scope=col>Y2004</th><th scope=col>Y2005</th><th scope=col>Y2006</th><th scope=col>Y2007</th><th scope=col>Y2008</th></tr></thead>\n",
       "<tbody>\n",
       "\t<tr><td>Venezuela         </td><td>24.58052          </td><td>24.69666          </td><td>24.80082          </td><td>24.89208          </td><td>24.98440          </td><td>25.07104          </td><td>25.15587          </td><td>25.24624          </td><td>25.35274          </td><td>...               </td><td>26.50035          </td><td>26.61021          </td><td>26.71688          </td><td>26.79210          </td><td>26.85498          </td><td>26.95162          </td><td>27.05633          </td><td>27.17698          </td><td>27.30849          </td><td>27.44500          </td></tr>\n",
       "\t<tr><td>Vietnam           </td><td>19.01394          </td><td>19.03902          </td><td>19.06804          </td><td>19.09675          </td><td>19.13046          </td><td>19.16397          </td><td>19.19740          </td><td>19.23481          </td><td>19.27090          </td><td>...               </td><td>20.02081          </td><td>20.10343          </td><td>20.18623          </td><td>20.27145          </td><td>20.36402          </td><td>20.46585          </td><td>20.57277          </td><td>20.68655          </td><td>20.80189          </td><td>20.91630          </td></tr>\n",
       "\t<tr><td>West Bank and Gaza</td><td>24.31624          </td><td>24.40192          </td><td>24.48713          </td><td>24.57107          </td><td>24.65582          </td><td>24.74148          </td><td>24.82984          </td><td>24.91615          </td><td>25.00108          </td><td>...               </td><td>26.28240          </td><td>26.39074          </td><td>26.45700          </td><td>26.48925          </td><td>26.51152          </td><td>26.52924          </td><td>26.54329          </td><td>26.54449          </td><td>26.55460          </td><td>26.57750          </td></tr>\n",
       "\t<tr><td>Yemen, Rep.       </td><td>22.90384          </td><td>22.96813          </td><td>23.02669          </td><td>23.07279          </td><td>23.12566          </td><td>23.16944          </td><td>23.20933          </td><td>23.25043          </td><td>23.29401          </td><td>...               </td><td>23.85482          </td><td>23.92467          </td><td>23.99129          </td><td>24.05692          </td><td>24.12459          </td><td>24.19204          </td><td>24.25638          </td><td>24.32120          </td><td>24.37949          </td><td>24.44157          </td></tr>\n",
       "\t<tr><td>Zambia            </td><td>19.66295          </td><td>19.69512          </td><td>19.72538          </td><td>19.75420          </td><td>19.78070          </td><td>19.80335          </td><td>19.82396          </td><td>19.85065          </td><td>19.88320          </td><td>...               </td><td>20.15094          </td><td>20.17261          </td><td>20.20266          </td><td>20.24298          </td><td>20.29474          </td><td>20.35966          </td><td>20.43398          </td><td>20.51422          </td><td>20.59770          </td><td>20.68321          </td></tr>\n",
       "\t<tr><td>Zimbabwe          </td><td>21.46989          </td><td>21.48867          </td><td>21.50738          </td><td>21.52936          </td><td>21.53383          </td><td>21.54341          </td><td>21.54859          </td><td>21.54590          </td><td>21.55396          </td><td>...               </td><td>21.68873          </td><td>21.72652          </td><td>21.76514          </td><td>21.79645          </td><td>21.82499          </td><td>21.85806          </td><td>21.89495          </td><td>21.93371          </td><td>21.97405          </td><td>22.02660          </td></tr>\n",
       "</tbody>\n",
       "</table>\n"
      ],
      "text/latex": [
       "\\begin{tabular}{r|llllllllllllllllllllllllllllll}\n",
       " Country & Y1980 & Y1981 & Y1982 & Y1983 & Y1984 & Y1985 & Y1986 & Y1987 & Y1988 & ... & Y1999 & Y2000 & Y2001 & Y2002 & Y2003 & Y2004 & Y2005 & Y2006 & Y2007 & Y2008\\\\\n",
       "\\hline\n",
       "\t Venezuela          & 24.58052           & 24.69666           & 24.80082           & 24.89208           & 24.98440           & 25.07104           & 25.15587           & 25.24624           & 25.35274           & ...                & 26.50035           & 26.61021           & 26.71688           & 26.79210           & 26.85498           & 26.95162           & 27.05633           & 27.17698           & 27.30849           & 27.44500          \\\\\n",
       "\t Vietnam            & 19.01394           & 19.03902           & 19.06804           & 19.09675           & 19.13046           & 19.16397           & 19.19740           & 19.23481           & 19.27090           & ...                & 20.02081           & 20.10343           & 20.18623           & 20.27145           & 20.36402           & 20.46585           & 20.57277           & 20.68655           & 20.80189           & 20.91630          \\\\\n",
       "\t West Bank and Gaza & 24.31624           & 24.40192           & 24.48713           & 24.57107           & 24.65582           & 24.74148           & 24.82984           & 24.91615           & 25.00108           & ...                & 26.28240           & 26.39074           & 26.45700           & 26.48925           & 26.51152           & 26.52924           & 26.54329           & 26.54449           & 26.55460           & 26.57750          \\\\\n",
       "\t Yemen, Rep.        & 22.90384           & 22.96813           & 23.02669           & 23.07279           & 23.12566           & 23.16944           & 23.20933           & 23.25043           & 23.29401           & ...                & 23.85482           & 23.92467           & 23.99129           & 24.05692           & 24.12459           & 24.19204           & 24.25638           & 24.32120           & 24.37949           & 24.44157          \\\\\n",
       "\t Zambia             & 19.66295           & 19.69512           & 19.72538           & 19.75420           & 19.78070           & 19.80335           & 19.82396           & 19.85065           & 19.88320           & ...                & 20.15094           & 20.17261           & 20.20266           & 20.24298           & 20.29474           & 20.35966           & 20.43398           & 20.51422           & 20.59770           & 20.68321          \\\\\n",
       "\t Zimbabwe           & 21.46989           & 21.48867           & 21.50738           & 21.52936           & 21.53383           & 21.54341           & 21.54859           & 21.54590           & 21.55396           & ...                & 21.68873           & 21.72652           & 21.76514           & 21.79645           & 21.82499           & 21.85806           & 21.89495           & 21.93371           & 21.97405           & 22.02660          \\\\\n",
       "\\end{tabular}\n"
      ],
      "text/markdown": [
       "\n",
       "| Country | Y1980 | Y1981 | Y1982 | Y1983 | Y1984 | Y1985 | Y1986 | Y1987 | Y1988 | ... | Y1999 | Y2000 | Y2001 | Y2002 | Y2003 | Y2004 | Y2005 | Y2006 | Y2007 | Y2008 |\n",
       "|---|---|---|---|---|---|---|---|---|---|---|---|---|---|---|---|---|---|---|---|---|\n",
       "| Venezuela          | 24.58052           | 24.69666           | 24.80082           | 24.89208           | 24.98440           | 25.07104           | 25.15587           | 25.24624           | 25.35274           | ...                | 26.50035           | 26.61021           | 26.71688           | 26.79210           | 26.85498           | 26.95162           | 27.05633           | 27.17698           | 27.30849           | 27.44500           |\n",
       "| Vietnam            | 19.01394           | 19.03902           | 19.06804           | 19.09675           | 19.13046           | 19.16397           | 19.19740           | 19.23481           | 19.27090           | ...                | 20.02081           | 20.10343           | 20.18623           | 20.27145           | 20.36402           | 20.46585           | 20.57277           | 20.68655           | 20.80189           | 20.91630           |\n",
       "| West Bank and Gaza | 24.31624           | 24.40192           | 24.48713           | 24.57107           | 24.65582           | 24.74148           | 24.82984           | 24.91615           | 25.00108           | ...                | 26.28240           | 26.39074           | 26.45700           | 26.48925           | 26.51152           | 26.52924           | 26.54329           | 26.54449           | 26.55460           | 26.57750           |\n",
       "| Yemen, Rep.        | 22.90384           | 22.96813           | 23.02669           | 23.07279           | 23.12566           | 23.16944           | 23.20933           | 23.25043           | 23.29401           | ...                | 23.85482           | 23.92467           | 23.99129           | 24.05692           | 24.12459           | 24.19204           | 24.25638           | 24.32120           | 24.37949           | 24.44157           |\n",
       "| Zambia             | 19.66295           | 19.69512           | 19.72538           | 19.75420           | 19.78070           | 19.80335           | 19.82396           | 19.85065           | 19.88320           | ...                | 20.15094           | 20.17261           | 20.20266           | 20.24298           | 20.29474           | 20.35966           | 20.43398           | 20.51422           | 20.59770           | 20.68321           |\n",
       "| Zimbabwe           | 21.46989           | 21.48867           | 21.50738           | 21.52936           | 21.53383           | 21.54341           | 21.54859           | 21.54590           | 21.55396           | ...                | 21.68873           | 21.72652           | 21.76514           | 21.79645           | 21.82499           | 21.85806           | 21.89495           | 21.93371           | 21.97405           | 22.02660           |\n",
       "\n"
      ],
      "text/plain": [
       "  Country            Y1980    Y1981    Y1982    Y1983    Y1984    Y1985   \n",
       "1 Venezuela          24.58052 24.69666 24.80082 24.89208 24.98440 25.07104\n",
       "2 Vietnam            19.01394 19.03902 19.06804 19.09675 19.13046 19.16397\n",
       "3 West Bank and Gaza 24.31624 24.40192 24.48713 24.57107 24.65582 24.74148\n",
       "4 Yemen, Rep.        22.90384 22.96813 23.02669 23.07279 23.12566 23.16944\n",
       "5 Zambia             19.66295 19.69512 19.72538 19.75420 19.78070 19.80335\n",
       "6 Zimbabwe           21.46989 21.48867 21.50738 21.52936 21.53383 21.54341\n",
       "  Y1986    Y1987    Y1988    ... Y1999    Y2000    Y2001    Y2002    Y2003   \n",
       "1 25.15587 25.24624 25.35274 ... 26.50035 26.61021 26.71688 26.79210 26.85498\n",
       "2 19.19740 19.23481 19.27090 ... 20.02081 20.10343 20.18623 20.27145 20.36402\n",
       "3 24.82984 24.91615 25.00108 ... 26.28240 26.39074 26.45700 26.48925 26.51152\n",
       "4 23.20933 23.25043 23.29401 ... 23.85482 23.92467 23.99129 24.05692 24.12459\n",
       "5 19.82396 19.85065 19.88320 ... 20.15094 20.17261 20.20266 20.24298 20.29474\n",
       "6 21.54859 21.54590 21.55396 ... 21.68873 21.72652 21.76514 21.79645 21.82499\n",
       "  Y2004    Y2005    Y2006    Y2007    Y2008   \n",
       "1 26.95162 27.05633 27.17698 27.30849 27.44500\n",
       "2 20.46585 20.57277 20.68655 20.80189 20.91630\n",
       "3 26.52924 26.54329 26.54449 26.55460 26.57750\n",
       "4 24.19204 24.25638 24.32120 24.37949 24.44157\n",
       "5 20.35966 20.43398 20.51422 20.59770 20.68321\n",
       "6 21.85806 21.89495 21.93371 21.97405 22.02660"
      ]
     },
     "metadata": {},
     "output_type": "display_data"
    }
   ],
   "source": [
    "tail(bmi)"
   ]
  },
  {
   "cell_type": "code",
   "execution_count": 14,
   "metadata": {},
   "outputs": [
    {
     "name": "stdout",
     "output_type": "stream",
     "text": [
      "tibble [199 x 30] (S3: spec_tbl_df/tbl_df/tbl/data.frame)\n",
      " $ Country: chr [1:199] \"Afghanistan\" \"Albania\" \"Algeria\" \"Andorra\" ...\n",
      " $ Y1980  : num [1:199] 21.5 25.2 22.3 25.7 20.9 ...\n",
      " $ Y1981  : num [1:199] 21.5 25.2 22.3 25.7 20.9 ...\n",
      " $ Y1982  : num [1:199] 21.5 25.3 22.4 25.7 20.9 ...\n",
      " $ Y1983  : num [1:199] 21.4 25.3 22.5 25.8 20.9 ...\n",
      " $ Y1984  : num [1:199] 21.4 25.3 22.6 25.8 20.9 ...\n",
      " $ Y1985  : num [1:199] 21.4 25.3 22.7 25.9 20.9 ...\n",
      " $ Y1986  : num [1:199] 21.4 25.3 22.8 25.9 21 ...\n",
      " $ Y1987  : num [1:199] 21.4 25.3 22.8 25.9 21 ...\n",
      " $ Y1988  : num [1:199] 21.3 25.3 22.9 26 21 ...\n",
      " $ Y1989  : num [1:199] 21.3 25.3 23 26 21.1 ...\n",
      " $ Y1990  : num [1:199] 21.2 25.3 23 26.1 21.1 ...\n",
      " $ Y1991  : num [1:199] 21.2 25.3 23.1 26.2 21.1 ...\n",
      " $ Y1992  : num [1:199] 21.1 25.2 23.2 26.2 21.1 ...\n",
      " $ Y1993  : num [1:199] 21.1 25.2 23.3 26.3 21.1 ...\n",
      " $ Y1994  : num [1:199] 21 25.2 23.3 26.4 21.1 ...\n",
      " $ Y1995  : num [1:199] 20.9 25.3 23.4 26.4 21.2 ...\n",
      " $ Y1996  : num [1:199] 20.9 25.3 23.5 26.5 21.2 ...\n",
      " $ Y1997  : num [1:199] 20.8 25.3 23.5 26.6 21.2 ...\n",
      " $ Y1998  : num [1:199] 20.8 25.4 23.6 26.7 21.3 ...\n",
      " $ Y1999  : num [1:199] 20.8 25.5 23.7 26.8 21.3 ...\n",
      " $ Y2000  : num [1:199] 20.7 25.6 23.8 26.8 21.4 ...\n",
      " $ Y2001  : num [1:199] 20.6 25.7 23.9 26.9 21.4 ...\n",
      " $ Y2002  : num [1:199] 20.6 25.8 24 27 21.5 ...\n",
      " $ Y2003  : num [1:199] 20.6 25.9 24.1 27.1 21.6 ...\n",
      " $ Y2004  : num [1:199] 20.6 26 24.2 27.2 21.7 ...\n",
      " $ Y2005  : num [1:199] 20.6 26.1 24.3 27.3 21.8 ...\n",
      " $ Y2006  : num [1:199] 20.6 26.2 24.4 27.4 21.9 ...\n",
      " $ Y2007  : num [1:199] 20.6 26.3 24.5 27.5 22.1 ...\n",
      " $ Y2008  : num [1:199] 20.6 26.4 24.6 27.6 22.3 ...\n",
      " - attr(*, \"spec\")=\n",
      "  .. cols(\n",
      "  ..   Country = col_character(),\n",
      "  ..   Y1980 = col_double(),\n",
      "  ..   Y1981 = col_double(),\n",
      "  ..   Y1982 = col_double(),\n",
      "  ..   Y1983 = col_double(),\n",
      "  ..   Y1984 = col_double(),\n",
      "  ..   Y1985 = col_double(),\n",
      "  ..   Y1986 = col_double(),\n",
      "  ..   Y1987 = col_double(),\n",
      "  ..   Y1988 = col_double(),\n",
      "  ..   Y1989 = col_double(),\n",
      "  ..   Y1990 = col_double(),\n",
      "  ..   Y1991 = col_double(),\n",
      "  ..   Y1992 = col_double(),\n",
      "  ..   Y1993 = col_double(),\n",
      "  ..   Y1994 = col_double(),\n",
      "  ..   Y1995 = col_double(),\n",
      "  ..   Y1996 = col_double(),\n",
      "  ..   Y1997 = col_double(),\n",
      "  ..   Y1998 = col_double(),\n",
      "  ..   Y1999 = col_double(),\n",
      "  ..   Y2000 = col_double(),\n",
      "  ..   Y2001 = col_double(),\n",
      "  ..   Y2002 = col_double(),\n",
      "  ..   Y2003 = col_double(),\n",
      "  ..   Y2004 = col_double(),\n",
      "  ..   Y2005 = col_double(),\n",
      "  ..   Y2006 = col_double(),\n",
      "  ..   Y2007 = col_double(),\n",
      "  ..   Y2008 = col_double()\n",
      "  .. )\n"
     ]
    }
   ],
   "source": [
    "str(bmi)"
   ]
  },
  {
   "cell_type": "code",
   "execution_count": 18,
   "metadata": {},
   "outputs": [
    {
     "name": "stdout",
     "output_type": "stream",
     "text": [
      "Rows: 199\n",
      "Columns: 30\n",
      "$ Country <chr> \"Afghanistan\", \"Albania\", \"Algeria\", \"Andorra\", \"Angola\", \"...\n",
      "$ Y1980   <dbl> 21.48678, 25.22533, 22.25703, 25.66652, 20.94876, 23.31424,...\n",
      "$ Y1981   <dbl> 21.46552, 25.23981, 22.34745, 25.70868, 20.94371, 23.39054,...\n",
      "$ Y1982   <dbl> 21.45145, 25.25636, 22.43647, 25.74681, 20.93754, 23.45883,...\n",
      "$ Y1983   <dbl> 21.43822, 25.27176, 22.52105, 25.78250, 20.93187, 23.53735,...\n",
      "$ Y1984   <dbl> 21.42734, 25.27901, 22.60633, 25.81874, 20.93569, 23.63584,...\n",
      "$ Y1985   <dbl> 21.41222, 25.28669, 22.69501, 25.85236, 20.94857, 23.73109,...\n",
      "$ Y1986   <dbl> 21.40132, 25.29451, 22.76979, 25.89089, 20.96030, 23.83449,...\n",
      "$ Y1987   <dbl> 21.37679, 25.30217, 22.84096, 25.93414, 20.98025, 23.93649,...\n",
      "$ Y1988   <dbl> 21.34018, 25.30450, 22.90644, 25.98477, 21.01375, 24.05364,...\n",
      "$ Y1989   <dbl> 21.29845, 25.31944, 22.97931, 26.04450, 21.05269, 24.16347,...\n",
      "$ Y1990   <dbl> 21.24818, 25.32357, 23.04600, 26.10936, 21.09007, 24.26782,...\n",
      "$ Y1991   <dbl> 21.20269, 25.28452, 23.11333, 26.17912, 21.12136, 24.36568,...\n",
      "$ Y1992   <dbl> 21.14238, 25.23077, 23.18776, 26.24017, 21.14987, 24.45644,...\n",
      "$ Y1993   <dbl> 21.06376, 25.21192, 23.25764, 26.30356, 21.13938, 24.54096,...\n",
      "$ Y1994   <dbl> 20.97987, 25.22115, 23.32273, 26.36793, 21.14186, 24.60945,...\n",
      "$ Y1995   <dbl> 20.91132, 25.25874, 23.39526, 26.43569, 21.16022, 24.66461,...\n",
      "$ Y1996   <dbl> 20.85155, 25.31097, 23.46811, 26.50769, 21.19076, 24.72544,...\n",
      "$ Y1997   <dbl> 20.81307, 25.33988, 23.54160, 26.58255, 21.22621, 24.78714,...\n",
      "$ Y1998   <dbl> 20.78591, 25.39116, 23.61592, 26.66337, 21.27082, 24.84936,...\n",
      "$ Y1999   <dbl> 20.75469, 25.46555, 23.69486, 26.75078, 21.31954, 24.91721,...\n",
      "$ Y2000   <dbl> 20.69521, 25.55835, 23.77659, 26.83179, 21.37480, 24.99158,...\n",
      "$ Y2001   <dbl> 20.62643, 25.66701, 23.86256, 26.92373, 21.43664, 25.05857,...\n",
      "$ Y2002   <dbl> 20.59848, 25.77167, 23.95294, 27.02525, 21.51765, 25.13039,...\n",
      "$ Y2003   <dbl> 20.58706, 25.87274, 24.05243, 27.12481, 21.59924, 25.20713,...\n",
      "$ Y2004   <dbl> 20.57759, 25.98136, 24.15957, 27.23107, 21.69218, 25.29898,...\n",
      "$ Y2005   <dbl> 20.58084, 26.08939, 24.27001, 27.32827, 21.80564, 25.39965,...\n",
      "$ Y2006   <dbl> 20.58749, 26.20867, 24.38270, 27.43588, 21.93881, 25.51382,...\n",
      "$ Y2007   <dbl> 20.60246, 26.32753, 24.48846, 27.53363, 22.08962, 25.64247,...\n",
      "$ Y2008   <dbl> 20.62058, 26.44657, 24.59620, 27.63048, 22.25083, 25.76602,...\n"
     ]
    }
   ],
   "source": [
    "glimpse(bmi)"
   ]
  },
  {
   "cell_type": "code",
   "execution_count": null,
   "metadata": {},
   "outputs": [],
   "source": []
  }
 ],
 "metadata": {
  "kernelspec": {
   "display_name": "R",
   "language": "R",
   "name": "ir"
  },
  "language_info": {
   "codemirror_mode": "r",
   "file_extension": ".r",
   "mimetype": "text/x-r-source",
   "name": "R",
   "pygments_lexer": "r",
   "version": "3.6.1"
  }
 },
 "nbformat": 4,
 "nbformat_minor": 4
}
